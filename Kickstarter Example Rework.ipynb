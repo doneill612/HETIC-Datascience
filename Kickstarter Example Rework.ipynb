{
 "cells": [
  {
   "cell_type": "markdown",
   "metadata": {},
   "source": [
    "# Kickstarter Example (reworked)"
   ]
  },
  {
   "cell_type": "markdown",
   "metadata": {},
   "source": [
    "## Imports\n",
    "\n",
    "Here we import the necessary modules."
   ]
  },
  {
   "cell_type": "code",
   "execution_count": 1,
   "metadata": {},
   "outputs": [],
   "source": [
    "import os\n",
    "import numpy as np\n",
    "import pandas as pd\n",
    "\n",
    "from sklearn.preprocessing import LabelEncoder\n",
    "from sklearn.preprocessing import StandardScaler\n",
    "from sklearn.model_selection import train_test_split\n",
    "from sklearn.ensemble import RandomForestClassifier"
   ]
  },
  {
   "cell_type": "markdown",
   "metadata": {},
   "source": [
    "## Reading the data\n",
    "\n",
    "Load the data from the `.csv` into a `DataFrame`."
   ]
  },
  {
   "cell_type": "code",
   "execution_count": 2,
   "metadata": {},
   "outputs": [],
   "source": [
    "PATH_ROOT = os.path.join('input', 'kickstarter-projects')\n",
    "FLOC = os.path.join(PATH_ROOT, 'ks-projects-201801.csv')"
   ]
  },
  {
   "cell_type": "code",
   "execution_count": 3,
   "metadata": {},
   "outputs": [
    {
     "data": {
      "text/html": [
       "<div>\n",
       "<style scoped>\n",
       "    .dataframe tbody tr th:only-of-type {\n",
       "        vertical-align: middle;\n",
       "    }\n",
       "\n",
       "    .dataframe tbody tr th {\n",
       "        vertical-align: top;\n",
       "    }\n",
       "\n",
       "    .dataframe thead th {\n",
       "        text-align: right;\n",
       "    }\n",
       "</style>\n",
       "<table border=\"1\" class=\"dataframe\">\n",
       "  <thead>\n",
       "    <tr style=\"text-align: right;\">\n",
       "      <th></th>\n",
       "      <th>name</th>\n",
       "      <th>category</th>\n",
       "      <th>main_category</th>\n",
       "      <th>currency</th>\n",
       "      <th>deadline</th>\n",
       "      <th>goal</th>\n",
       "      <th>launched</th>\n",
       "      <th>pledged</th>\n",
       "      <th>state</th>\n",
       "      <th>backers</th>\n",
       "      <th>country</th>\n",
       "      <th>usd pledged</th>\n",
       "      <th>usd_pledged_real</th>\n",
       "      <th>usd_goal_real</th>\n",
       "    </tr>\n",
       "    <tr>\n",
       "      <th>ID</th>\n",
       "      <th></th>\n",
       "      <th></th>\n",
       "      <th></th>\n",
       "      <th></th>\n",
       "      <th></th>\n",
       "      <th></th>\n",
       "      <th></th>\n",
       "      <th></th>\n",
       "      <th></th>\n",
       "      <th></th>\n",
       "      <th></th>\n",
       "      <th></th>\n",
       "      <th></th>\n",
       "      <th></th>\n",
       "    </tr>\n",
       "  </thead>\n",
       "  <tbody>\n",
       "    <tr>\n",
       "      <th>1000002330</th>\n",
       "      <td>The Songs of Adelaide &amp; Abullah</td>\n",
       "      <td>Poetry</td>\n",
       "      <td>Publishing</td>\n",
       "      <td>GBP</td>\n",
       "      <td>2015-10-09</td>\n",
       "      <td>1000.0</td>\n",
       "      <td>2015-08-11 12:12:28</td>\n",
       "      <td>0.0</td>\n",
       "      <td>failed</td>\n",
       "      <td>0</td>\n",
       "      <td>GB</td>\n",
       "      <td>0.0</td>\n",
       "      <td>0.0</td>\n",
       "      <td>1533.95</td>\n",
       "    </tr>\n",
       "    <tr>\n",
       "      <th>1000003930</th>\n",
       "      <td>Greeting From Earth: ZGAC Arts Capsule For ET</td>\n",
       "      <td>Narrative Film</td>\n",
       "      <td>Film &amp; Video</td>\n",
       "      <td>USD</td>\n",
       "      <td>2017-11-01</td>\n",
       "      <td>30000.0</td>\n",
       "      <td>2017-09-02 04:43:57</td>\n",
       "      <td>2421.0</td>\n",
       "      <td>failed</td>\n",
       "      <td>15</td>\n",
       "      <td>US</td>\n",
       "      <td>100.0</td>\n",
       "      <td>2421.0</td>\n",
       "      <td>30000.00</td>\n",
       "    </tr>\n",
       "    <tr>\n",
       "      <th>1000004038</th>\n",
       "      <td>Where is Hank?</td>\n",
       "      <td>Narrative Film</td>\n",
       "      <td>Film &amp; Video</td>\n",
       "      <td>USD</td>\n",
       "      <td>2013-02-26</td>\n",
       "      <td>45000.0</td>\n",
       "      <td>2013-01-12 00:20:50</td>\n",
       "      <td>220.0</td>\n",
       "      <td>failed</td>\n",
       "      <td>3</td>\n",
       "      <td>US</td>\n",
       "      <td>220.0</td>\n",
       "      <td>220.0</td>\n",
       "      <td>45000.00</td>\n",
       "    </tr>\n",
       "    <tr>\n",
       "      <th>1000007540</th>\n",
       "      <td>ToshiCapital Rekordz Needs Help to Complete Album</td>\n",
       "      <td>Music</td>\n",
       "      <td>Music</td>\n",
       "      <td>USD</td>\n",
       "      <td>2012-04-16</td>\n",
       "      <td>5000.0</td>\n",
       "      <td>2012-03-17 03:24:11</td>\n",
       "      <td>1.0</td>\n",
       "      <td>failed</td>\n",
       "      <td>1</td>\n",
       "      <td>US</td>\n",
       "      <td>1.0</td>\n",
       "      <td>1.0</td>\n",
       "      <td>5000.00</td>\n",
       "    </tr>\n",
       "    <tr>\n",
       "      <th>1000011046</th>\n",
       "      <td>Community Film Project: The Art of Neighborhoo...</td>\n",
       "      <td>Film &amp; Video</td>\n",
       "      <td>Film &amp; Video</td>\n",
       "      <td>USD</td>\n",
       "      <td>2015-08-29</td>\n",
       "      <td>19500.0</td>\n",
       "      <td>2015-07-04 08:35:03</td>\n",
       "      <td>1283.0</td>\n",
       "      <td>canceled</td>\n",
       "      <td>14</td>\n",
       "      <td>US</td>\n",
       "      <td>1283.0</td>\n",
       "      <td>1283.0</td>\n",
       "      <td>19500.00</td>\n",
       "    </tr>\n",
       "  </tbody>\n",
       "</table>\n",
       "</div>"
      ],
      "text/plain": [
       "                                                         name        category  \\\n",
       "ID                                                                              \n",
       "1000002330                    The Songs of Adelaide & Abullah          Poetry   \n",
       "1000003930      Greeting From Earth: ZGAC Arts Capsule For ET  Narrative Film   \n",
       "1000004038                                     Where is Hank?  Narrative Film   \n",
       "1000007540  ToshiCapital Rekordz Needs Help to Complete Album           Music   \n",
       "1000011046  Community Film Project: The Art of Neighborhoo...    Film & Video   \n",
       "\n",
       "           main_category currency    deadline     goal             launched  \\\n",
       "ID                                                                            \n",
       "1000002330    Publishing      GBP  2015-10-09   1000.0  2015-08-11 12:12:28   \n",
       "1000003930  Film & Video      USD  2017-11-01  30000.0  2017-09-02 04:43:57   \n",
       "1000004038  Film & Video      USD  2013-02-26  45000.0  2013-01-12 00:20:50   \n",
       "1000007540         Music      USD  2012-04-16   5000.0  2012-03-17 03:24:11   \n",
       "1000011046  Film & Video      USD  2015-08-29  19500.0  2015-07-04 08:35:03   \n",
       "\n",
       "            pledged     state  backers country  usd pledged  usd_pledged_real  \\\n",
       "ID                                                                              \n",
       "1000002330      0.0    failed        0      GB          0.0               0.0   \n",
       "1000003930   2421.0    failed       15      US        100.0            2421.0   \n",
       "1000004038    220.0    failed        3      US        220.0             220.0   \n",
       "1000007540      1.0    failed        1      US          1.0               1.0   \n",
       "1000011046   1283.0  canceled       14      US       1283.0            1283.0   \n",
       "\n",
       "            usd_goal_real  \n",
       "ID                         \n",
       "1000002330        1533.95  \n",
       "1000003930       30000.00  \n",
       "1000004038       45000.00  \n",
       "1000007540        5000.00  \n",
       "1000011046       19500.00  "
      ]
     },
     "execution_count": 3,
     "metadata": {},
     "output_type": "execute_result"
    }
   ],
   "source": [
    "df = pd.read_csv(FLOC, index_col='ID')\n",
    "df.head()"
   ]
  },
  {
   "cell_type": "markdown",
   "metadata": {},
   "source": [
    "## Building a model\n",
    "\n",
    "Let's build a `RandomForestClassifier` model!"
   ]
  },
  {
   "cell_type": "markdown",
   "metadata": {},
   "source": [
    "### Preprocessing\n",
    "\n",
    "Here we perform preprocessing steps which entails creating the feature space - a clean, processed version of the raw `df`."
   ]
  },
  {
   "cell_type": "code",
   "execution_count": 4,
   "metadata": {},
   "outputs": [
    {
     "name": "stdout",
     "output_type": "stream",
     "text": [
      "<class 'pandas.core.frame.DataFrame'>\n",
      "Int64Index: 374864 entries, 1000002330 to 999988282\n",
      "Data columns (total 11 columns):\n",
      "category            374864 non-null object\n",
      "main_category       374864 non-null object\n",
      "currency            374864 non-null object\n",
      "goal                374864 non-null float64\n",
      "pledged             374864 non-null float64\n",
      "state               374864 non-null object\n",
      "backers             374864 non-null int64\n",
      "country             374864 non-null object\n",
      "usd pledged         374864 non-null float64\n",
      "usd_pledged_real    374864 non-null float64\n",
      "usd_goal_real       374864 non-null float64\n",
      "dtypes: float64(5), int64(1), object(5)\n",
      "memory usage: 34.3+ MB\n"
     ]
    }
   ],
   "source": [
    "# create a constant list of desired columns\n",
    "COLUMNS = ['category', 'main_category', \n",
    "           'currency', 'goal', 'pledged', \n",
    "           'state', 'backers', 'country', \n",
    "           'usd pledged', 'usd_pledged_real', \n",
    "           'usd_goal_real']\n",
    "# only select the desired columns, drop NaN and missing values\n",
    "feature_space = df[COLUMNS].dropna()\n",
    "feature_space.info()"
   ]
  },
  {
   "cell_type": "code",
   "execution_count": 5,
   "metadata": {},
   "outputs": [],
   "source": [
    "# features\n",
    "X = feature_space.drop('state', axis=1)\n",
    "# labels\n",
    "y = feature_space['state']"
   ]
  },
  {
   "cell_type": "code",
   "execution_count": 6,
   "metadata": {},
   "outputs": [
    {
     "data": {
      "text/html": [
       "<div>\n",
       "<style scoped>\n",
       "    .dataframe tbody tr th:only-of-type {\n",
       "        vertical-align: middle;\n",
       "    }\n",
       "\n",
       "    .dataframe tbody tr th {\n",
       "        vertical-align: top;\n",
       "    }\n",
       "\n",
       "    .dataframe thead th {\n",
       "        text-align: right;\n",
       "    }\n",
       "</style>\n",
       "<table border=\"1\" class=\"dataframe\">\n",
       "  <thead>\n",
       "    <tr style=\"text-align: right;\">\n",
       "      <th></th>\n",
       "      <th>category</th>\n",
       "      <th>main_category</th>\n",
       "      <th>currency</th>\n",
       "      <th>goal</th>\n",
       "      <th>pledged</th>\n",
       "      <th>backers</th>\n",
       "      <th>country</th>\n",
       "      <th>usd pledged</th>\n",
       "      <th>usd_pledged_real</th>\n",
       "      <th>usd_goal_real</th>\n",
       "    </tr>\n",
       "    <tr>\n",
       "      <th>ID</th>\n",
       "      <th></th>\n",
       "      <th></th>\n",
       "      <th></th>\n",
       "      <th></th>\n",
       "      <th></th>\n",
       "      <th></th>\n",
       "      <th></th>\n",
       "      <th></th>\n",
       "      <th></th>\n",
       "      <th></th>\n",
       "    </tr>\n",
       "  </thead>\n",
       "  <tbody>\n",
       "    <tr>\n",
       "      <th>1000002330</th>\n",
       "      <td>108</td>\n",
       "      <td>12</td>\n",
       "      <td>5</td>\n",
       "      <td>1000.0</td>\n",
       "      <td>0.0</td>\n",
       "      <td>0</td>\n",
       "      <td>9</td>\n",
       "      <td>0.0</td>\n",
       "      <td>0.0</td>\n",
       "      <td>1533.95</td>\n",
       "    </tr>\n",
       "    <tr>\n",
       "      <th>1000003930</th>\n",
       "      <td>93</td>\n",
       "      <td>6</td>\n",
       "      <td>13</td>\n",
       "      <td>30000.0</td>\n",
       "      <td>2421.0</td>\n",
       "      <td>15</td>\n",
       "      <td>21</td>\n",
       "      <td>100.0</td>\n",
       "      <td>2421.0</td>\n",
       "      <td>30000.00</td>\n",
       "    </tr>\n",
       "    <tr>\n",
       "      <th>1000004038</th>\n",
       "      <td>93</td>\n",
       "      <td>6</td>\n",
       "      <td>13</td>\n",
       "      <td>45000.0</td>\n",
       "      <td>220.0</td>\n",
       "      <td>3</td>\n",
       "      <td>21</td>\n",
       "      <td>220.0</td>\n",
       "      <td>220.0</td>\n",
       "      <td>45000.00</td>\n",
       "    </tr>\n",
       "    <tr>\n",
       "      <th>1000007540</th>\n",
       "      <td>90</td>\n",
       "      <td>10</td>\n",
       "      <td>13</td>\n",
       "      <td>5000.0</td>\n",
       "      <td>1.0</td>\n",
       "      <td>1</td>\n",
       "      <td>21</td>\n",
       "      <td>1.0</td>\n",
       "      <td>1.0</td>\n",
       "      <td>5000.00</td>\n",
       "    </tr>\n",
       "    <tr>\n",
       "      <th>1000011046</th>\n",
       "      <td>55</td>\n",
       "      <td>6</td>\n",
       "      <td>13</td>\n",
       "      <td>19500.0</td>\n",
       "      <td>1283.0</td>\n",
       "      <td>14</td>\n",
       "      <td>21</td>\n",
       "      <td>1283.0</td>\n",
       "      <td>1283.0</td>\n",
       "      <td>19500.00</td>\n",
       "    </tr>\n",
       "  </tbody>\n",
       "</table>\n",
       "</div>"
      ],
      "text/plain": [
       "            category  main_category  currency     goal  pledged  backers  \\\n",
       "ID                                                                         \n",
       "1000002330       108             12         5   1000.0      0.0        0   \n",
       "1000003930        93              6        13  30000.0   2421.0       15   \n",
       "1000004038        93              6        13  45000.0    220.0        3   \n",
       "1000007540        90             10        13   5000.0      1.0        1   \n",
       "1000011046        55              6        13  19500.0   1283.0       14   \n",
       "\n",
       "            country  usd pledged  usd_pledged_real  usd_goal_real  \n",
       "ID                                                                 \n",
       "1000002330        9          0.0               0.0        1533.95  \n",
       "1000003930       21        100.0            2421.0       30000.00  \n",
       "1000004038       21        220.0             220.0       45000.00  \n",
       "1000007540       21          1.0               1.0        5000.00  \n",
       "1000011046       21       1283.0            1283.0       19500.00  "
      ]
     },
     "execution_count": 6,
     "metadata": {},
     "output_type": "execute_result"
    }
   ],
   "source": [
    "# define some preprocessor objects...\n",
    "label_encoder = LabelEncoder()\n",
    "\n",
    "# ...and apply fit_transform to our features\n",
    "for col in X.select_dtypes(include='object').columns.values:\n",
    "    X[col] = label_encoder.fit_transform(X[col])\n",
    "\n",
    "X.head()"
   ]
  },
  {
   "cell_type": "code",
   "execution_count": 7,
   "metadata": {},
   "outputs": [],
   "source": [
    "# Create the (stratified) train and test sets\n",
    "X_train, X_test, y_train, y_test = train_test_split(X, y, stratify=y)"
   ]
  },
  {
   "cell_type": "markdown",
   "metadata": {},
   "source": [
    "### Training\n",
    "\n",
    "Here we instantiate and train the model on the test data."
   ]
  },
  {
   "cell_type": "code",
   "execution_count": 8,
   "metadata": {},
   "outputs": [
    {
     "name": "stderr",
     "output_type": "stream",
     "text": [
      "C:\\Users\\donei\\Anaconda3\\lib\\site-packages\\sklearn\\ensemble\\forest.py:246: FutureWarning: The default value of n_estimators will change from 10 in version 0.20 to 100 in 0.22.\n",
      "  \"10 in version 0.20 to 100 in 0.22.\", FutureWarning)\n"
     ]
    },
    {
     "name": "stdout",
     "output_type": "stream",
     "text": [
      "Wall time: 14.8 s\n"
     ]
    }
   ],
   "source": [
    "%%time\n",
    "# Let's just use the default parameters (10 estimators)\n",
    "model = RandomForestClassifier()\n",
    "model.fit(X_train, y_train)"
   ]
  },
  {
   "cell_type": "markdown",
   "metadata": {},
   "source": [
    "### Testing\n",
    "\n",
    "How well does the model perform on the test data (unseen during training)?"
   ]
  },
  {
   "cell_type": "code",
   "execution_count": 9,
   "metadata": {},
   "outputs": [
    {
     "data": {
      "text/plain": [
       "0.8608775449229588"
      ]
     },
     "execution_count": 9,
     "metadata": {},
     "output_type": "execute_result"
    }
   ],
   "source": [
    "model.score(X_test, y_test)"
   ]
  },
  {
   "cell_type": "markdown",
   "metadata": {},
   "source": [
    "Not bad... 86% accuracy. Can we optimize our model parameters for the chosen feature space?"
   ]
  },
  {
   "cell_type": "markdown",
   "metadata": {},
   "source": [
    "### Model grid (`GridSearchCV`)\n",
    "\n",
    "Let's make use of ScikitLearn's grid searching capabilities. **Warning**: Grid searching is a computationally expensive action - it will take a few minutes (at least) to run the full grid search."
   ]
  },
  {
   "cell_type": "code",
   "execution_count": 10,
   "metadata": {},
   "outputs": [],
   "source": [
    "from sklearn.model_selection import GridSearchCV, StratifiedKFold\n",
    "from sklearn.metrics import accuracy_score, make_scorer, confusion_matrix"
   ]
  },
  {
   "cell_type": "code",
   "execution_count": 11,
   "metadata": {},
   "outputs": [
    {
     "name": "stdout",
     "output_type": "stream",
     "text": [
      "Wall time: 1h 10min 7s\n"
     ]
    }
   ],
   "source": [
    "%%time\n",
    "# 5-fold cross validation... \n",
    "# (https://en.wikipedia.org/wiki/Cross-validation_(statistics)#k-fold_cross-validation)\n",
    "skf = StratifiedKFold(n_splits=10)\n",
    "\n",
    "# here we define the parameter grid we wish to test.\n",
    "# let's just vary a couple for the time being.\n",
    "params = {'max_depth': [10, 20, 30], 'n_estimators': [10, 20, 30]}\n",
    "\n",
    "# choose the type of model to use in grid searching\n",
    "model = RandomForestClassifier()\n",
    "\n",
    "# establish and fit the grid\n",
    "grid = GridSearchCV(estimator=model, \n",
    "                    param_grid=params, \n",
    "                    cv=skf, \n",
    "                    refit=True,\n",
    "                    return_train_score=True,\n",
    "                    scoring=make_scorer(accuracy_score))\n",
    "grid.fit(X_train, y_train)"
   ]
  },
  {
   "cell_type": "code",
   "execution_count": 12,
   "metadata": {},
   "outputs": [
    {
     "name": "stdout",
     "output_type": "stream",
     "text": [
      "Best parameters found: {'max_depth': 10, 'n_estimators': 20}\n"
     ]
    }
   ],
   "source": [
    "# print out the optimal parameters found by the grid search\n",
    "print('Best parameters found: {}'.format(grid.best_params_))"
   ]
  },
  {
   "cell_type": "code",
   "execution_count": 13,
   "metadata": {},
   "outputs": [
    {
     "data": {
      "text/plain": [
       "0.8812475991292842"
      ]
     },
     "execution_count": 13,
     "metadata": {},
     "output_type": "execute_result"
    }
   ],
   "source": [
    "accuracy_score(y_test, grid.predict(X_test))"
   ]
  },
  {
   "cell_type": "markdown",
   "metadata": {},
   "source": [
    "We were able to increase our test-set accuracy by 2% by doing a small grid search... The grid can become more granular, and maybe some better results will be found. Let's look at a confusion matrix for our predictions."
   ]
  },
  {
   "cell_type": "code",
   "execution_count": 14,
   "metadata": {},
   "outputs": [
    {
     "data": {
      "text/html": [
       "<div>\n",
       "<style scoped>\n",
       "    .dataframe tbody tr th:only-of-type {\n",
       "        vertical-align: middle;\n",
       "    }\n",
       "\n",
       "    .dataframe tbody tr th {\n",
       "        vertical-align: top;\n",
       "    }\n",
       "\n",
       "    .dataframe thead th {\n",
       "        text-align: right;\n",
       "    }\n",
       "</style>\n",
       "<table border=\"1\" class=\"dataframe\">\n",
       "  <thead>\n",
       "    <tr style=\"text-align: right;\">\n",
       "      <th></th>\n",
       "      <th>Predicted failed</th>\n",
       "      <th>Predicted successful</th>\n",
       "      <th>Predicted canceled</th>\n",
       "      <th>Predicted live</th>\n",
       "      <th>Predicted suspended</th>\n",
       "    </tr>\n",
       "  </thead>\n",
       "  <tbody>\n",
       "    <tr>\n",
       "      <th>Actually failed</th>\n",
       "      <td>7</td>\n",
       "      <td>9429</td>\n",
       "      <td>0</td>\n",
       "      <td>253</td>\n",
       "      <td>0</td>\n",
       "    </tr>\n",
       "    <tr>\n",
       "      <th>Actually successful</th>\n",
       "      <td>5</td>\n",
       "      <td>49119</td>\n",
       "      <td>0</td>\n",
       "      <td>279</td>\n",
       "      <td>0</td>\n",
       "    </tr>\n",
       "    <tr>\n",
       "      <th>Actually canceled</th>\n",
       "      <td>0</td>\n",
       "      <td>570</td>\n",
       "      <td>0</td>\n",
       "      <td>130</td>\n",
       "      <td>0</td>\n",
       "    </tr>\n",
       "    <tr>\n",
       "      <th>Actually live</th>\n",
       "      <td>0</td>\n",
       "      <td>2</td>\n",
       "      <td>0</td>\n",
       "      <td>33461</td>\n",
       "      <td>0</td>\n",
       "    </tr>\n",
       "    <tr>\n",
       "      <th>Actually suspended</th>\n",
       "      <td>0</td>\n",
       "      <td>368</td>\n",
       "      <td>0</td>\n",
       "      <td>93</td>\n",
       "      <td>0</td>\n",
       "    </tr>\n",
       "  </tbody>\n",
       "</table>\n",
       "</div>"
      ],
      "text/plain": [
       "                     Predicted failed  Predicted successful  \\\n",
       "Actually failed                     7                  9429   \n",
       "Actually successful                 5                 49119   \n",
       "Actually canceled                   0                   570   \n",
       "Actually live                       0                     2   \n",
       "Actually suspended                  0                   368   \n",
       "\n",
       "                     Predicted canceled  Predicted live  Predicted suspended  \n",
       "Actually failed                       0             253                    0  \n",
       "Actually successful                   0             279                    0  \n",
       "Actually canceled                     0             130                    0  \n",
       "Actually live                         0           33461                    0  \n",
       "Actually suspended                    0              93                    0  "
      ]
     },
     "execution_count": 14,
     "metadata": {},
     "output_type": "execute_result"
    }
   ],
   "source": [
    "# show confusion matrix\n",
    "predicted_base = 'Predicted {}'\n",
    "actually_base = 'Actually {}'\n",
    "label_vals = [v for v in y.value_counts().index]\n",
    "cm = confusion_matrix(y_test, grid.predict(X_test))\n",
    "cm_frame = pd.DataFrame(cm, columns=[predicted_base.format(v) for v in label_vals],\n",
    "                            index=[actually_base.format(v) for v in label_vals])\n",
    "cm_frame.head()"
   ]
  },
  {
   "cell_type": "markdown",
   "metadata": {},
   "source": [
    "Here the problem of class imbalance becomes especially apparent - our model **doesn't predict *any* canceled or suspended projects**... This is most likely because these classes are severly under-represented in the data."
   ]
  },
  {
   "cell_type": "markdown",
   "metadata": {},
   "source": [
    "## Digging deeper\n",
    "\n",
    "Let's reload the original dataset and perform more intense preprocessing. No more sections here, everything in a single block. \n",
    "\n",
    "Define some methods for performing common functionlity."
   ]
  },
  {
   "cell_type": "code",
   "execution_count": 99,
   "metadata": {},
   "outputs": [],
   "source": [
    "def csv_to_df(floc):\n",
    "    '''Extracts the contents of the raw .csv file into a DataFrame. '''\n",
    "    return pd.read_csv(floc, index_col='ID', parse_dates=['launched', 'deadline'])\n",
    "\n",
    "def select_columns(df, cols=['category', 'main_category', \n",
    "                             'currency', 'state', 'backers', \n",
    "                             'country', 'usd_pledged_real', \n",
    "                             'usd_goal_real', 'launched', 'deadline']):\n",
    "    '''Selects a subset of columns from a DataFrame.\n",
    "    \n",
    "    If a column list is not supplied, a default list of columns\n",
    "    is created.\n",
    "    \n",
    "    Parameters\n",
    "    ----------\n",
    "        df              : the DataFrame from which to select the specified columns\n",
    "        cols (optional) : the columns to select\n",
    "    \n",
    "    Returns\n",
    "    -------\n",
    "        res : the resulting DataFrame after subselection of supplied columns\n",
    "    '''\n",
    "    # only select the desired columns, drop NaN and missing values\n",
    "    res = df[cols].dropna()\n",
    "    res.info()\n",
    "    return res\n",
    "\n",
    "def split_features_and_labels(df):\n",
    "    '''Splits a DataFrame into features and labels\n",
    "    \n",
    "    '''\n",
    "    X = df.drop('state', axis=1)\n",
    "    # labels\n",
    "    y = df['state']\n",
    "\n",
    "    return X, y\n",
    "\n",
    "\n",
    "def label_encode(X):\n",
    "    '''Performs label encoding on a DataFrame\n",
    "    \n",
    "    '''\n",
    "    label_encoder = LabelEncoder()\n",
    "    \n",
    "    for col in X.select_dtypes(include='object').columns.values:\n",
    "        X[col] = label_encoder.fit_transform(X[col])\n",
    "    \n",
    "    print('\\n Categorical labels encoded.')\n",
    "    return X\n",
    "\n",
    "def impute_backers(X):\n",
    "    '''Performs a variation of mean-imputation on the backers column\n",
    "    \n",
    "    '''\n",
    "    ok = X.loc[(X['usd_pledged_real'] > 0) & (X['backers'] > 0)]\n",
    "    ok_idx = ok.index\n",
    "    mean = np.mean(ok['usd_pledged_real'] / ok['backers'])\n",
    "\n",
    "    def _impute(row):\n",
    "        row['backers'] = np.ceil(row['usd_pledged_real'] / mean).astype('int')\n",
    "        return row\n",
    "\n",
    "    X[~X.index.isin(ok_idx.values)] = \\\n",
    "        X[~X.index.isin(ok_idx.values)].apply(_impute, axis=1)\n",
    "    \n",
    "    def calc_avg_pledge(row):\n",
    "        if row['backers'] > 0 and row['usd_pledged_real'] > 0:\n",
    "            return row['usd_pledged_real'] / row['backers']\n",
    "        return 0\n",
    "\n",
    "    X['average_pledge'] = X.apply(calc_avg_pledge, axis=1)\n",
    "    print('\\n backers column imputed.')\n",
    "    return X\n",
    "\n",
    "def calculate_time_delta(X):\n",
    "    '''Adds a column to the supplied dataframe representing the time delta\n",
    "    between the launch date and the deadline of the project.\n",
    "    \n",
    "    '''\n",
    "    X['launch_deadline_delta'] = (X['deadline'] - X['launched']).dt.days\n",
    "    print('\\n launch_deadline_delta column added.')\n",
    "    return X\n",
    "\n",
    "def train(X, y, n_estimators=25, max_depth=20, kfolds=None, show_cm=True):\n",
    "    print('\\n Training model...')\n",
    "    _X = X.copy(deep=True)\n",
    "    _X = _X.drop(['launched', 'deadline'], axis=1)\n",
    "    X_train, X_test, y_train, y_test = train_test_split(_X, y, stratify=y)\n",
    "    model = None\n",
    "    if kfolds:\n",
    "        skv = StratifiedKFold(n_splits=10)\n",
    "\n",
    "        params = {'max_depth':[max_dept], 'n_estimators':[n_estimators]}\n",
    "\n",
    "        model = GridSearchCV(estimator=RandomForestClassifier(),\n",
    "                            param_grid=params,\n",
    "                            cv=skf, \n",
    "                            refit=True,\n",
    "                            return_train_score=True,\n",
    "                            scoring=make_scorer(accuracy_score))\n",
    "        model.fit(X_train, y_train)\n",
    "        train_preds = model.predict(X_train)\n",
    "        test_preds = model.predict(X_test)\n",
    "        print('Model accuracy:\\nTrain set:{train}\\nTest set: {test}\\n\\n'\n",
    "              .format(train=accuracy_score(y_train, train_preds),\n",
    "                      test=accuracy_score(y_test, test_preds)))\n",
    "    else:\n",
    "        X_train, X_validate, y_train, y_validate = \\\n",
    "            train_test_split(X_train, y_train, stratify=y_train)\n",
    "        model = RandomForestClassifier(n_estimators=n_estimators, max_depth=max_depth)\n",
    "        model.fit(X_train, y_train)\n",
    "        train_preds = model.predict(X_train)\n",
    "        val_preds = model.predict(X_validate)\n",
    "        test_preds = model.predict(X_test)\n",
    "    \n",
    "        print('Model accuracy:\\nTrain set:{train}\\nValidation set: {validate}\\n'\n",
    "              'Test set: {test}\\n\\n'\n",
    "              .format(train=accuracy_score(y_train, train_preds),\n",
    "                      validate=accuracy_score(y_validate, val_preds),\n",
    "                      test=accuracy_score(y_test, test_preds)))\n",
    "    \n",
    "    if show_cm:\n",
    "        predicted_base = 'Predicted {}'\n",
    "        actually_base = 'Actually {}'\n",
    "        label_vals = [v for v in y.value_counts().index]\n",
    "        cm = confusion_matrix(y_test, test_preds)\n",
    "        cm_frame = pd.DataFrame(cm, columns=[predicted_base.format(v) for v in label_vals],\n",
    "                                    index=[actually_base.format(v) for v in label_vals])\n",
    "        print(cm_frame.head())"
   ]
  },
  {
   "cell_type": "code",
   "execution_count": 96,
   "metadata": {},
   "outputs": [],
   "source": [
    "def extraction():\n",
    "    df = csv_to_df(FLOC)\n",
    "    df = csv_to_df(FLOC)\n",
    "    df = select_columns(df)\n",
    "    X, y = split_features_and_labels(df)\n",
    "    return X, y\n",
    "\n",
    "def preprocessing(X):\n",
    "    X = label_encode(X)\n",
    "    X = impute_backers(X)\n",
    "    X = calculate_time_delta(X)\n",
    "    return X"
   ]
  },
  {
   "cell_type": "code",
   "execution_count": 100,
   "metadata": {},
   "outputs": [
    {
     "name": "stdout",
     "output_type": "stream",
     "text": [
      "<class 'pandas.core.frame.DataFrame'>\n",
      "Int64Index: 378661 entries, 1000002330 to 999988282\n",
      "Data columns (total 10 columns):\n",
      "category            378661 non-null object\n",
      "main_category       378661 non-null object\n",
      "currency            378661 non-null object\n",
      "state               378661 non-null object\n",
      "backers             378661 non-null int64\n",
      "country             378661 non-null object\n",
      "usd_pledged_real    378661 non-null float64\n",
      "usd_goal_real       378661 non-null float64\n",
      "launched            378661 non-null datetime64[ns]\n",
      "deadline            378661 non-null datetime64[ns]\n",
      "dtypes: datetime64[ns](2), float64(2), int64(1), object(5)\n",
      "memory usage: 31.8+ MB\n",
      "\n",
      " Categorical labels encoded.\n",
      "\n",
      " backers column imputed.\n",
      "\n",
      " launch_deadline_delta column added.\n",
      "\n",
      " Training model...\n",
      "Model accuracy:\n",
      "Train set:0.9252662021822006\n",
      "Validation set: 0.8798997168974211\n",
      "Test set: 0.8801681701983817\n",
      "\n",
      "\n",
      "                     Predicted failed  Predicted successful  \\\n",
      "Actually failed                   252                  9173   \n",
      "Actually successful               462                 48725   \n",
      "Actually canceled                   9                   559   \n",
      "Actually undefined                  4                     0   \n",
      "Actually live                      14                   370   \n",
      "\n",
      "                     Predicted canceled  Predicted undefined  Predicted live  \\\n",
      "Actually failed                       1                  265               1   \n",
      "Actually successful                   5                  217               1   \n",
      "Actually canceled                     0                  132               0   \n",
      "Actually undefined                    0                33464               1   \n",
      "Actually live                         0                   77               0   \n",
      "\n",
      "                     Predicted suspended  \n",
      "Actually failed                        3  \n",
      "Actually successful                   20  \n",
      "Actually canceled                      0  \n",
      "Actually undefined                    20  \n",
      "Actually live                          0  \n"
     ]
    }
   ],
   "source": [
    "# Main logic\n",
    "X, y = extraction()\n",
    "X = preprocessing(X)\n",
    "train(X, y)"
   ]
  }
 ],
 "metadata": {
  "kernelspec": {
   "display_name": "Python 3",
   "language": "python",
   "name": "python3"
  },
  "language_info": {
   "codemirror_mode": {
    "name": "ipython",
    "version": 3
   },
   "file_extension": ".py",
   "mimetype": "text/x-python",
   "name": "python",
   "nbconvert_exporter": "python",
   "pygments_lexer": "ipython3",
   "version": "3.7.1"
  }
 },
 "nbformat": 4,
 "nbformat_minor": 2
}
